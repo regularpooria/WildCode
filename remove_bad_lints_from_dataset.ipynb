{
 "cells": [
  {
   "cell_type": "code",
   "execution_count": 9,
   "metadata": {},
   "outputs": [],
   "source": [
    "import json"
   ]
  },
  {
   "cell_type": "code",
   "execution_count": 10,
   "metadata": {},
   "outputs": [],
   "source": [
    "linting_paths = {\n",
    "    \"python\": \"results/python_lint.json\",\n",
    "    \"javascript\": \"results/js_lint.json\",\n",
    "    \"c\": \"results/c_lint.json\",\n",
    "    \"java\": \"results/java_lint.json\",\n",
    "}\n",
    "dataset_paths = {\n",
    "    \"python\": \"dataset/python.json\",\n",
    "    \"javascript\": \"dataset/javascript.json\",\n",
    "    \"java\": \"dataset/java.json\",\n",
    "    \"c\": \"dataset/c.json\"\n",
    "}"
   ]
  },
  {
   "cell_type": "code",
   "execution_count": 11,
   "metadata": {},
   "outputs": [],
   "source": [
    "linting_results = {}\n",
    "\n",
    "for key, value in linting_paths.items():\n",
    "    with open(value, \"r\", encoding=\"utf-8\") as f:\n",
    "        linting_results[key] = json.load(f)"
   ]
  },
  {
   "cell_type": "code",
   "execution_count": 12,
   "metadata": {},
   "outputs": [],
   "source": [
    "datasets = {}\n",
    "\n",
    "for key, value in dataset_paths.items():\n",
    "    with open(value, \"r\", encoding=\"utf-8\") as f:\n",
    "        datasets[key] = json.load(f)"
   ]
  },
  {
   "cell_type": "code",
   "execution_count": 13,
   "metadata": {},
   "outputs": [
    {
     "name": "stdout",
     "output_type": "stream",
     "text": [
      "[('python', 63405), ('javascript', 26016), ('java', 18700), ('c', 17909)]\n"
     ]
    }
   ],
   "source": [
    "print([(key, len(value)) for key, value in datasets.items()])"
   ]
  },
  {
   "cell_type": "code",
   "execution_count": 14,
   "metadata": {},
   "outputs": [],
   "source": [
    "for language, linting_data in linting_results.items():\n",
    "    dataset: list = datasets[language]\n",
    "\n",
    "    to_remove = set()\n",
    "    for dp in linting_data:\n",
    "        try:\n",
    "            conversation_hash = dp[\"module\"].split(\"_\")[0]\n",
    "            code_index = int(dp[\"module\"].split(\"_\")[-1].split(\".\")[0])\n",
    "            to_remove.add((conversation_hash, code_index))\n",
    "        except ValueError:\n",
    "            # Skip invalid records\n",
    "            continue\n",
    "\n",
    "    datasets[language] = [\n",
    "        record for record in dataset\n",
    "        if (record[\"conversation_hash\"], record[\"code_index\"]) not in to_remove\n",
    "    ]\n"
   ]
  },
  {
   "cell_type": "code",
   "execution_count": 17,
   "metadata": {},
   "outputs": [],
   "source": [
    "for key, value in dataset_paths.items():\n",
    "    with open(value, \"w\", encoding=\"utf-8\") as f:\n",
    "        f.write(json.dumps(datasets[key], indent=2))"
   ]
  },
  {
   "cell_type": "code",
   "execution_count": 16,
   "metadata": {},
   "outputs": [
    {
     "name": "stdout",
     "output_type": "stream",
     "text": [
      "[('python', 60451), ('javascript', 15943), ('java', 18680), ('c', 7526)]\n"
     ]
    }
   ],
   "source": [
    "print([(key, len(value)) for key, value in datasets.items()])\n"
   ]
  }
 ],
 "metadata": {
  "kernelspec": {
   "display_name": "venv",
   "language": "python",
   "name": "python3"
  },
  "language_info": {
   "codemirror_mode": {
    "name": "ipython",
    "version": 3
   },
   "file_extension": ".py",
   "mimetype": "text/x-python",
   "name": "python",
   "nbconvert_exporter": "python",
   "pygments_lexer": "ipython3",
   "version": "3.10.12"
  }
 },
 "nbformat": 4,
 "nbformat_minor": 2
}
