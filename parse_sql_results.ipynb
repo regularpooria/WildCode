{
 "cells": [
  {
   "cell_type": "code",
   "execution_count": 1,
   "metadata": {},
   "outputs": [],
   "source": [
    "import csv\n",
    "from collections import defaultdict"
   ]
  },
  {
   "cell_type": "code",
   "execution_count": 2,
   "metadata": {},
   "outputs": [],
   "source": [
    "def count_conversations(file_path):\n",
    "    # Structure: {language: {conversation_hash: count, 'total_unique': count, 'total_occurrences': count}}\n",
    "    language_data = defaultdict(lambda: {'unique_conversations': set(), 'total_occurrences': 0})\n",
    "\n",
    "    with open(file_path, mode='r') as csv_file:\n",
    "        csv_reader = csv.DictReader(csv_file)\n",
    "\n",
    "        for row in csv_reader:\n",
    "            conversation_hash = row['conversation_hash']\n",
    "            language = row['language']\n",
    "\n",
    "            # Track data per language\n",
    "            lang_data = language_data[language]\n",
    "\n",
    "            # Add to unique conversations if not already present\n",
    "            if conversation_hash not in lang_data['unique_conversations']:\n",
    "                lang_data['unique_conversations'].add(conversation_hash)\n",
    "\n",
    "            # Increment total occurrences\n",
    "            lang_data['total_occurrences'] += 1\n",
    "\n",
    "    # Convert sets to counts and prepare final output\n",
    "    result = {}\n",
    "    for language, data in language_data.items():\n",
    "        result[language] = {\n",
    "            'unique_conversations': len(data['unique_conversations']),\n",
    "            'total_occurrences': data['total_occurrences']\n",
    "        }\n",
    "\n",
    "    return result"
   ]
  },
  {
   "cell_type": "code",
   "execution_count": 3,
   "metadata": {},
   "outputs": [
    {
     "name": "stdout",
     "output_type": "stream",
     "text": [
      "Unique conversations and total occurrences per language:\n",
      "Language: c\n",
      "  Unique conversations: 18\n",
      "  Total occurrences: 199\n",
      "Language: csharp\n",
      "  Unique conversations: 46\n",
      "  Total occurrences: 156\n",
      "Language: java\n",
      "  Unique conversations: 82\n",
      "  Total occurrences: 705\n",
      "Language: javascript\n",
      "  Unique conversations: 122\n",
      "  Total occurrences: 616\n",
      "Language: php\n",
      "  Unique conversations: 102\n",
      "  Total occurrences: 328\n",
      "Language: python\n",
      "  Unique conversations: 600\n",
      "  Total occurrences: 5310\n"
     ]
    }
   ],
   "source": [
    "file_path = 'codegrep_results_sql.csv'\n",
    "language_conversations = count_conversations(file_path)\n",
    "\n",
    "unique_convo_hash_good = 0\n",
    "# Print results\n",
    "print(\"Unique conversations and total occurrences per language:\")\n",
    "for language, data in language_conversations.items():\n",
    "    print(f\"Language: {language}\")\n",
    "    unique_convo_hash_good += data['unique_conversations']\n",
    "    print(f\"  Unique conversations: {data['unique_conversations']}\")\n",
    "    print(f\"  Total occurrences: {data['total_occurrences']}\")"
   ]
  },
  {
   "cell_type": "code",
   "execution_count": 4,
   "metadata": {},
   "outputs": [],
   "source": [
    "allowed_rules = {\n",
    "    \"java\": [\n",
    "        \"tainted-sql-string\",\n",
    "        \"tainted-sqli\",\n",
    "        \"hibernate-sqli\",\n",
    "        \"jdbc-sqli\",\n",
    "        \"jdo-sqli\",\n",
    "        \"jpa-sqli\",\n",
    "        \"tainted-sql-from-http-request\",\n",
    "        \"turbine-sqli\",\n",
    "        \"vertx-sqli\",\n",
    "        \"mongodb-nosqli\",\n",
    "        \"tainted-sql-string\",\n",
    "    ],\n",
    "    \"csharp\": [\n",
    "        \"csharp-sqli\",\n",
    "    ],\n",
    "    \"javascript\": [\n",
    "        \"knex-sqli\",\n",
    "        \"mysql-sqli\",\n",
    "        \"pg-sqli\",\n",
    "        \"sequelize-sqli\",\n",
    "        \"tainted-sql-string\",\n",
    "        \"node-knex-sqli\",\n",
    "        \"node-mssql-sqli\",\n",
    "        \"node-mysql-sqli\",\n",
    "        \"node-postgres-sqli\",\n",
    "    ],\n",
    "    \"php\": [\n",
    "        \"tainted-sql-string\",\n",
    "        \"laravel-sql-injection\",\n",
    "        \"wp-sql-injection-audit\",\n",
    "        \"\",\n",
    "    ],\n",
    "    \"python\": [\n",
    "        \"mysql-sqli\",\n",
    "        \"psycopg-sqli\",\n",
    "        \"pymssql-sqli\",\n",
    "        \"pymysql-sqli\",\n",
    "        \"sqlalchemy-sqli\",\n",
    "        \"tainted-sql-string\",\n",
    "        \"sql-injection-using-extra-where\",\n",
    "        \"sql-injection-using-rawsql\",\n",
    "        \"sql-injection-db-cursor-execute\",\n",
    "        \"sql-injection-using-raw\",\n",
    "        \"aiopg-sqli\",\n",
    "        \"asyncpg-sqli\",\n",
    "        \"pg8000-sqli\",\n",
    "        \"pyramid-sqlalchemy-sql-injection\",\n",
    "        \"sqlalchemy-sql-injection\",\n",
    "        \"sqlalchemy-execute-raw-query\",\n",
    "        \"avoid-sqlalchemy-text\",\n",
    "    ]\n",
    "}"
   ]
  },
  {
   "cell_type": "code",
   "execution_count": 5,
   "metadata": {},
   "outputs": [
    {
     "name": "stdout",
     "output_type": "stream",
     "text": [
      "java 11\n",
      "csharp 1\n",
      "javascript 9\n",
      "php 4\n",
      "python 17\n"
     ]
    }
   ],
   "source": [
    "for key, value in allowed_rules.items():\n",
    "    print(key, len(value))"
   ]
  },
  {
   "cell_type": "code",
   "execution_count": 6,
   "metadata": {},
   "outputs": [
    {
     "name": "stdout",
     "output_type": "stream",
     "text": [
      "Rules and their Occurrences (unique conversation hashes and total occurrences):\n",
      "Rule: csharp-sqli, Unique Conversation Hashes Count: 3, Picture of hashes: {'c47de9ffd8992172bb4da7f00e79ef10', 'e9bd2034a846c0463880ce7380fee94d', '6593a1e806e7eb6f328b9e3ab847a019'}\n",
      "Rule: jdbc-sqli, Unique Conversation Hashes Count: 4, Picture of hashes: {'c8e03d074de50b384dc8ed91a91adecb', '10a1b82752ca064c385bbb8f17ade3bc', '898a914a7ab92fb28d46216ca359a861', 'caa2bcabe57588fd16261169149f8087'}\n",
      "Rule: tainted-sql-string, Unique Conversation Hashes Count: 11, Picture of hashes: {'325a9f90cf89c970d1ade356e93a4152', 'b4064759ba3f651c0dc7143c88d20907', 'e564dc2b54b976c916151adbd65c2c5e', '0f7431549ab2973a614ff16bba19c384', '46046cfe0eb4a0af83c9078248ad61b5', '74577c32164a555f5cc9dbc385588744', 'f00482f9383dac1f106172875589f879', '25e10599575b5759a17118ed5ab90585', 'b2c90351894048e465e17770de195190', '07ec9514baa959d7cdc273552e787175', '05ee4f109a2a818d9ee9d3446787b23d'}\n",
      "Rule: sqlalchemy-execute-raw-query, Unique Conversation Hashes Count: 42, Picture of hashes: {'3a1a571990569a2395bf393a3e7d2605', '6dba242213447a9249e59c2e422acaf7', 'b1ac3ea82e8247486a00bf6ec473d5ae', '29815453ef2d227b0203da6d3d190486', 'e8c10c75f593e27c6fdbbd305461c4d8', 'fe6b805e656737664d1f4960ca71b2b0', 'b541bfb0344fb22647fc007531a70656', 'bd78a42dd547e35f2bec083f68409671', '5d91c3564b992f0d3b3116e5a5827a9b', 'dd3d069706ed055402499e7bd1ff8d9c', 'e564dc2b54b976c916151adbd65c2c5e', 'bbf512a7f28b0512874ea51ddd8419ee', '741383457f41e8120b82c821fd664688', '0c1b4a1af42f87b56fe123df9c60bed0', 'f83a12316d101c268486ec2cf7e20656', '22a69acc6a4e6791a0780286f6f32dec', '5ebd864ba99b423db7dfef029d970f45', '82f1b88b5aaa6cf806f1d3c6ff453518', '7ee9a75c75d301eb99e37180ce6b5e9a', 'a5ff8610389f207c439a8b4fa42fcc98', '393347c92d00af56cd92b73dbc50e855', '1486873c00ebf5938f81ec270e260240', '7b605c6091eda5e335ae78a0dc88d7a1', '5e8a4e85defea0ccc062ea5d27681ad3', 'bb1a4595cb2de4c7b3efb2c30e0ee1f3', 'c548ac13e23270a51a569e59daf66a31', 'db2ca7cbd89e32a8f42328507a8d0da8', 'dc8f8bf9d45a98e1b3aa3f57c5c05bab', '2383f820b484d0dcc2db4d2deec7238d', '957efbd47267aecdefcd5e40d9cde591', '57fe6249ed72790485402fc3a8a664eb', 'e9a40c400b97a21a950b8f59bf1380e9', '67b3060f6691a7aea47084b382dabb85', '972ff3cc73a4023df49c3e1ea8d86152', 'efa416c1f380f0b2d02026827878a717', '1cfee6818606d41b2402f40d538c8a15', 'ab62c5a23c94a006a82a019a89bc0c10', 'abfa5b20c998aefaf5b1a1eff5296842', '530dfd8681be129ff0a976f3799f5206', '07ec9514baa959d7cdc273552e787175', '535fb88098355b301d74279471380175', '6069de427c584982b27e0fae403c24bd'}\n",
      "Rule: psycopg-sqli, Unique Conversation Hashes Count: 5, Picture of hashes: {'3a1a571990569a2395bf393a3e7d2605', 'dd3d069706ed055402499e7bd1ff8d9c', '1486873c00ebf5938f81ec270e260240', '29815453ef2d227b0203da6d3d190486', '7ee9a75c75d301eb99e37180ce6b5e9a'}\n",
      "Rule: sql-injection-db-cursor-execute, Unique Conversation Hashes Count: 3, Picture of hashes: {'aac208f8923bf71e7ab49de642e84d56', 'e564dc2b54b976c916151adbd65c2c5e', '75011c33d1e621510c48e5d80b1cdc00'}\n",
      "Rule: avoid-sqlalchemy-text, Unique Conversation Hashes Count: 2, Picture of hashes: {'b1ac3ea82e8247486a00bf6ec473d5ae', 'dd0b65ad526095dd611a99289c3d1fa4'}\n"
     ]
    }
   ],
   "source": [
    "# Flatten the allowed rules into a single list\n",
    "allowed_rules_list = [rule for sublist in allowed_rules.values() for rule in sublist]\n",
    "results = defaultdict(lambda: {\"count\": 0, \"hashes\": set()})\n",
    "# Read the CSV file\n",
    "with open('codegrep_results.csv', mode='r') as csv_file:\n",
    "    csv_reader = csv.DictReader(csv_file)\n",
    "\n",
    "    for row in csv_reader:\n",
    "        error_id = row['error_id'].split('.')[-1]  # Extract the last part of the error_id\n",
    "        if error_id in allowed_rules_list:\n",
    "            conversation_hash = row['conversation_hash']\n",
    "            if error_id in results:\n",
    "                # Update the count and add the hash to the set\n",
    "                results[error_id][\"count\"] += 1\n",
    "                results[error_id][\"hashes\"].add(conversation_hash)\n",
    "            else:\n",
    "                # Initialize a new entry\n",
    "                results[error_id] = {\"count\": 1, \"hashes\": {conversation_hash}}         \n",
    "            \n",
    "print(\"Rules and their Occurrences (unique conversation hashes and total occurrences):\")\n",
    "for rule in results:\n",
    "    count = results[rule][\"count\"]\n",
    "    unique_hashes = results[rule][\"hashes\"]\n",
    "    print(f\"Rule: {rule}, Unique Conversation Hashes Count: {len(unique_hashes)}, Picture of hashes: {unique_hashes}\")\n",
    "\n"
   ]
  },
  {
   "cell_type": "markdown",
   "metadata": {},
   "source": [
    "## Total statistics"
   ]
  },
  {
   "cell_type": "code",
   "execution_count": 7,
   "metadata": {},
   "outputs": [],
   "source": [
    "unique_convo_hash_bad = 0\n",
    "for rule in results:\n",
    "    count = results[rule][\"count\"]\n",
    "    unique_hashes = results[rule][\"hashes\"]\n",
    "    unique_convo_hash_bad += len(unique_hashes)\n"
   ]
  },
  {
   "cell_type": "code",
   "execution_count": 8,
   "metadata": {},
   "outputs": [
    {
     "name": "stdout",
     "output_type": "stream",
     "text": [
      "970 70\n",
      "0.07216494845360824\n"
     ]
    }
   ],
   "source": [
    "print(unique_convo_hash_good, unique_convo_hash_bad)\n",
    "print(unique_convo_hash_bad / unique_convo_hash_good)"
   ]
  }
 ],
 "metadata": {
  "kernelspec": {
   "display_name": "venv",
   "language": "python",
   "name": "python3"
  },
  "language_info": {
   "codemirror_mode": {
    "name": "ipython",
    "version": 3
   },
   "file_extension": ".py",
   "mimetype": "text/x-python",
   "name": "python",
   "nbconvert_exporter": "python",
   "pygments_lexer": "ipython3",
   "version": "3.10.12"
  }
 },
 "nbformat": 4,
 "nbformat_minor": 2
}
