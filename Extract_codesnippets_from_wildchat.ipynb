{
 "cells": [
  {
   "cell_type": "code",
   "execution_count": 34,
   "metadata": {},
   "outputs": [],
   "source": [
    "from datasets import load_dataset\n",
    "import re\n",
    "import os\n",
    "import json"
   ]
  },
  {
   "cell_type": "code",
   "execution_count": 2,
   "metadata": {},
   "outputs": [],
   "source": [
    "# Load the dataset\n",
    "ds = load_dataset(\"allenai/WildChat-1M\", split=\"train\")"
   ]
  },
  {
   "cell_type": "code",
   "execution_count": 35,
   "metadata": {},
   "outputs": [],
   "source": [
    "def extract_code_snippets(text):\n",
    "    \"\"\"\n",
    "    Extracts all code blocks from Markdown text.\n",
    "    Returns a list of tuples: (language, code)\n",
    "    Language is None if not specified.\n",
    "    Handles consecutive code blocks correctly.\n",
    "    \"\"\"\n",
    "    blocks = []\n",
    "    \n",
    "    # Updated regex pattern to handle various markdown formats:\n",
    "    # ``` followed by optional language, then newline\n",
    "    # Content until closing ``` at start of line or end of string\n",
    "    pattern = r\"```(\\w+)?\\n?(.*?)\\n?```\"\n",
    "    \n",
    "    matches = re.findall(pattern, text, re.DOTALL)\n",
    "    \n",
    "    for lang, code in matches:\n",
    "        # Clean up the code content\n",
    "        cleaned_code = code.strip()\n",
    "        if cleaned_code:  # Only add non-empty code blocks\n",
    "            blocks.append((lang if lang else None, cleaned_code))\n",
    "    \n",
    "    return blocks"
   ]
  },
  {
   "cell_type": "code",
   "execution_count": 33,
   "metadata": {},
   "outputs": [
    {
     "data": {
      "text/plain": [
       "[('python', 'print(\"I\\'m doing just fine\")'),\n",
       " (None, 'console.log(\"this is javascript\")')]"
      ]
     },
     "execution_count": 33,
     "metadata": {},
     "output_type": "execute_result"
    }
   ],
   "source": [
    "extract_code_snippets(\"\"\"Hey chatgpt, how are you doing?\n",
    "```python\n",
    "print(\\\"I'm doing just fine\\\")```\n",
    "\n",
    "```\n",
    "console.log(\\\"this is javascript\\\")\n",
    "```\n",
    "\"\"\")"
   ]
  },
  {
   "cell_type": "code",
   "execution_count": 41,
   "metadata": {},
   "outputs": [],
   "source": [
    "results = []\n",
    "for example in ds:\n",
    "    conversation_id = example[\"conversation_hash\"]\n",
    "    for message in example[\"conversation\"]:\n",
    "        if message[\"role\"] == \"assistant\":\n",
    "            blocks = extract_code_snippets(message[\"content\"])\n",
    "            for (language, code) in blocks:\n",
    "                results.append(\n",
    "                    {\"conversation_hash\": conversation_id, \"code\": code.strip(), \"language\": language}\n",
    "                )"
   ]
  },
  {
   "cell_type": "code",
   "execution_count": 43,
   "metadata": {},
   "outputs": [],
   "source": [
    "os.makedirs(\"tmp\", exist_ok=True)\n",
    "with open(\"tmp/code_snippets.json\", \"w\", encoding=\"utf-8\") as f:\n",
    "    json.dump(results, f, indent=4)"
   ]
  },
  {
   "cell_type": "code",
   "execution_count": 45,
   "metadata": {},
   "outputs": [],
   "source": [
    "languages = {\n",
    "    \"unknown\": 0\n",
    "}\n",
    "for result in results:\n",
    "    if result[\"language\"] == None:\n",
    "        languages[\"unknown\"] += 1\n",
    "    else:\n",
    "        if result[\"language\"] not in languages:\n",
    "            languages[result[\"language\"]] = 1\n",
    "        languages[result[\"language\"]] += 1"
   ]
  },
  {
   "cell_type": "code",
   "execution_count": null,
   "metadata": {},
   "outputs": [],
   "source": [
    "languages"
   ]
  }
 ],
 "metadata": {
  "kernelspec": {
   "display_name": "venv",
   "language": "python",
   "name": "python3"
  },
  "language_info": {
   "codemirror_mode": {
    "name": "ipython",
    "version": 3
   },
   "file_extension": ".py",
   "mimetype": "text/x-python",
   "name": "python",
   "nbconvert_exporter": "python",
   "pygments_lexer": "ipython3",
   "version": "3.10.12"
  }
 },
 "nbformat": 4,
 "nbformat_minor": 2
}
