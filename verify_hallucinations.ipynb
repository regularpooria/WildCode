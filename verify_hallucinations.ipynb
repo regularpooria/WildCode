{
 "cells": [
  {
   "cell_type": "code",
   "execution_count": 14,
   "metadata": {},
   "outputs": [],
   "source": [
    "import json\n",
    "from cohere import ClientV2\n",
    "from openai import OpenAI\n",
    "import time\n"
   ]
  },
  {
   "cell_type": "code",
   "execution_count": 15,
   "metadata": {},
   "outputs": [
    {
     "data": {
      "text/plain": [
       "44"
      ]
     },
     "execution_count": 15,
     "metadata": {},
     "output_type": "execute_result"
    }
   ],
   "source": [
    "with open(\"results/hallucinations_javascript.json\", \"r\", encoding=\"utf-8\") as f:\n",
    "    data = json.load(f)\n",
    "    \n",
    "data = dict(sorted(data.items(), key=lambda x: (-x[1], x[0])))\n",
    "len(data)"
   ]
  },
  {
   "cell_type": "code",
   "execution_count": 16,
   "metadata": {},
   "outputs": [],
   "source": [
    "\n",
    "client = OpenAI(\n",
    "  base_url=\"https://openrouter.ai/api/v1\",\n",
    "  api_key=\"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\",\n",
    ")\n",
    "\n",
    "\n",
    "def ask_llm(library_name: str):\n",
    "    output = client.chat.completions.create(\n",
    "\t\tmodel=\"deepseek/deepseek-r1-0528-qwen3-8b\",\n",
    "\t\tmessages=[\n",
    "\t\t\t\t\t{\n",
    "\t\t\t\t\t\t\"role\": \"system\",\n",
    "\t\t\t\t\t\t\"content\": \"You are a helpful assistant that given a JavaScript/Nodejs library name, determines whether the library is a real javascript library that you can find in NPM. You will answer with either \\\"YES\\\" if it's a real javascript library and \\\"NO\\\" if it isn't. No other words.\"\n",
    "\t\t\t\t\t},\n",
    "\t\t\t\t\t{\n",
    "\t\t\t\t\t\t\"role\": \"user\",\n",
    "\t\t\t\t\t\t\"content\": library_name\n",
    "\t\t\t\t\t}\n",
    "\t\t\t\t],\n",
    "\t)  \n",
    "    return output.choices[0].message.content"
   ]
  },
  {
   "cell_type": "code",
   "execution_count": 17,
   "metadata": {},
   "outputs": [
    {
     "data": {
      "text/plain": [
       "'YES'"
      ]
     },
     "execution_count": 17,
     "metadata": {},
     "output_type": "execute_result"
    }
   ],
   "source": [
    "ask_llm(\"colyseus\")"
   ]
  },
  {
   "cell_type": "code",
   "execution_count": 18,
   "metadata": {},
   "outputs": [],
   "source": [
    "hallucinated = {}\n",
    "not_hallucinated = []"
   ]
  },
  {
   "cell_type": "code",
   "execution_count": 19,
   "metadata": {},
   "outputs": [
    {
     "name": "stdout",
     "output_type": "stream",
     "text": [
      "NO\n",
      "Penduel is NOT a real library, occurrence: 15\n",
      "NO\n",
      "your-keycloak-library is NOT a real library, occurrence: 8\n",
      "NO\n",
      "${newPackagePath} is NOT a real library, occurrence: 4\n",
      "NO\n",
      "${oldPackagePath} is NOT a real library, occurrence: 4\n",
      "YES\n",
      "NO\n",
      "Shares is NOT a real library, occurrence: 3\n",
      "YES\n",
      "NO\n",
      "GameBase.sol is NOT a real library, occurrence: 2\n",
      "NO\n",
      "LoanNFT is NOT a real library, occurrence: 2\n",
      "NO\n",
      "PlayerManagement is NOT a real library, occurrence: 2\n",
      "YES\n",
      "NO\n",
      "halton-sequence is NOT a real library, occurrence: 2\n",
      "NO\n",
      "istanbul-compare is NOT a real library, occurrence: 2\n",
      "NO\n",
      "webdriverio-mock-service is NOT a real library, occurrence: 2\n",
      "NO\n",
      "$lib is NOT a real library, occurrence: 1\n",
      "YES\n",
      "YES\n",
      "NO\n",
      "@expo/firebase-app is NOT a real library, occurrence: 1\n",
      "YES\n",
      "NO\n",
      "@huggingface/node-huggingface is NOT a real library, occurrence: 1\n",
      "YES\n",
      "NO\n",
      "GameBase is NOT a real library, occurrence: 1\n",
      "NO\n",
      "L2BlastBridge is NOT a real library, occurrence: 1\n",
      "NO\n",
      "MicroFrontend1 is NOT a real library, occurrence: 1\n",
      "NO\n",
      "Penduel.sol is NOT a real library, occurrence: 1\n",
      "NO\n",
      "PlayerManagement.sol is NOT a real library, occurrence: 1\n",
      "YES\n",
      "NO\n",
      "auto-orient is NOT a real library, occurrence: 1\n",
      "NO\n",
      "awsRum is NOT a real library, occurrence: 1\n",
      "NO\n",
      "docushot is NOT a real library, occurrence: 1\n",
      "NO\n",
      "effecto is NOT a real library, occurrence: 1\n",
      "NO\n",
      "jjpluginFacebookChat_by_ObscurusGrassator is NOT a real library, occurrence: 1\n",
      "NO\n",
      "nama-module is NOT a real library, occurrence: 1\n",
      "NO\n",
      "next-plugin-amp is NOT a real library, occurrence: 1\n",
      "NO\n",
      "pdf2image is NOT a real library, occurrence: 1\n",
      "YES\n",
      "YES\n",
      "NO\n",
      "qwikjs is NOT a real library, occurrence: 1\n",
      "YES\n",
      "NO\n",
      "schart-vue is NOT a real library, occurrence: 1\n",
      "NO\n",
      "sync-mssql is NOT a real library, occurrence: 1\n",
      "YES\n",
      "YES\n",
      "NO\n",
      "your-database-library is NOT a real library, occurrence: 1\n"
     ]
    }
   ],
   "source": [
    "for name in data.keys():\n",
    "    if name in not_hallucinated or name in hallucinated:\n",
    "        continue\n",
    "    \n",
    "    response = ask_llm(name)\n",
    "    print(response)\n",
    "    if response.upper() == \"YES\":\n",
    "        not_hallucinated.append(name)\n",
    "    elif response.upper() == \"NO\":\n",
    "        print(f\"{name} is NOT a real library, occurrence: {data[name]}\")\n",
    "        hallucinated[name] = data[name]\n",
    "    else:\n",
    "        print(f\"{name} yielded in neither no or yes\")\n",
    "    # time.sleep(60/40)"
   ]
  },
  {
   "cell_type": "code",
   "execution_count": 20,
   "metadata": {},
   "outputs": [],
   "source": [
    "with open(\"results/hallucinations_javascript.json\", \"w\", encoding=\"utf-8\") as f:\n",
    "    f.write(json.dumps(hallucinated, indent=2))"
   ]
  },
  {
   "cell_type": "code",
   "execution_count": 27,
   "metadata": {},
   "outputs": [
    {
     "name": "stdout",
     "output_type": "stream",
     "text": [
      "13\n"
     ]
    }
   ],
   "source": [
    "with open(\"results/hallucinations_javascript.json\", \"r\", encoding=\"utf-8\") as f:\n",
    "    data = json.load(f)\n",
    "    x = 0\n",
    "    for a in data:\n",
    "        if data[a] == 1:\n",
    "            x += 1\n",
    "    print(x)"
   ]
  }
 ],
 "metadata": {
  "kernelspec": {
   "display_name": "venv",
   "language": "python",
   "name": "python3"
  },
  "language_info": {
   "codemirror_mode": {
    "name": "ipython",
    "version": 3
   },
   "file_extension": ".py",
   "mimetype": "text/x-python",
   "name": "python",
   "nbconvert_exporter": "python",
   "pygments_lexer": "ipython3",
   "version": "3.10.12"
  }
 },
 "nbformat": 4,
 "nbformat_minor": 2
}
