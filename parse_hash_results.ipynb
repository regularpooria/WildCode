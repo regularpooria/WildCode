{
 "cells": [
  {
   "cell_type": "code",
   "execution_count": 1,
   "metadata": {},
   "outputs": [],
   "source": [
    "import csv\n",
    "from collections import defaultdict"
   ]
  },
  {
   "cell_type": "code",
   "execution_count": 21,
   "metadata": {},
   "outputs": [],
   "source": [
    "def count_conversations(file_path):\n",
    "    # Structure: {language: {conversation_hash: count, 'total_unique': count, 'total_occurrences': count}}\n",
    "    language_data = defaultdict(lambda: {'unique_conversations': set(), 'total_occurrences': 0})\n",
    "\n",
    "    with open(file_path, mode='r') as csv_file:\n",
    "        csv_reader = csv.DictReader(csv_file)\n",
    "\n",
    "        for row in csv_reader:\n",
    "            conversation_hash = row['conversation_hash']\n",
    "            language = row['language']\n",
    "\n",
    "            # Track data per language\n",
    "            lang_data = language_data[language]\n",
    "\n",
    "            # Add to unique conversations if not already present\n",
    "            if conversation_hash not in lang_data['unique_conversations']:\n",
    "                lang_data['unique_conversations'].add(conversation_hash)\n",
    "\n",
    "            # Increment total occurrences\n",
    "            lang_data['total_occurrences'] += 1\n",
    "\n",
    "    # Convert sets to counts and prepare final output\n",
    "    result = {}\n",
    "    for language, data in language_data.items():\n",
    "        result[language] = {\n",
    "            'unique_conversations': len(data['unique_conversations']),\n",
    "            'total_occurrences': data['total_occurrences']\n",
    "        }\n",
    "\n",
    "    return result"
   ]
  },
  {
   "cell_type": "code",
   "execution_count": 22,
   "metadata": {},
   "outputs": [
    {
     "name": "stdout",
     "output_type": "stream",
     "text": [
      "Unique conversations and total occurrences per language:\n",
      "Language: c\n",
      "  Unique conversations: 15\n",
      "  Total occurrences: 104\n",
      "Language: csharp\n",
      "  Unique conversations: 17\n",
      "  Total occurrences: 88\n",
      "Language: java\n",
      "  Unique conversations: 25\n",
      "  Total occurrences: 154\n",
      "Language: javascript\n",
      "  Unique conversations: 20\n",
      "  Total occurrences: 140\n",
      "Language: php\n",
      "  Unique conversations: 20\n",
      "  Total occurrences: 154\n",
      "Language: python\n",
      "  Unique conversations: 167\n",
      "  Total occurrences: 1070\n"
     ]
    }
   ],
   "source": [
    "file_path = 'codegrep_results_hash.csv'\n",
    "language_conversations = count_conversations(file_path)\n",
    "print(language_conversations)\n",
    "unique_convo_hash_good = 0\n",
    "# Print results\n",
    "print(\"Unique conversations and total occurrences per language:\")\n",
    "for language, data in language_conversations.items():\n",
    "    print(f\"Language: {language}\")\n",
    "    unique_convo_hash_good += data['unique_conversations']\n",
    "    print(f\"  Unique conversations: {data['unique_conversations']}\")\n",
    "    print(f\"  Total occurrences: {data['total_occurrences']}\")"
   ]
  },
  {
   "cell_type": "code",
   "execution_count": 11,
   "metadata": {},
   "outputs": [],
   "source": [
    "allowed_rules = {\n",
    "    \"java\": [\n",
    "        \"use-of-md5\",\n",
    "        \"use-of-weak-rsa-key\",\n",
    "        \"use-of-sha1\",\n",
    "        \"use-of-rc4\",\n",
    "        \"use-of-rc2\",\n",
    "        \"use-of-md5-digest-utils\",\n",
    "        \"use-of-default-aes\",\n",
    "        \"use-of-aes-ecb\",\n",
    "        \"use-of-blowfish\",\n",
    "        \"rsa-no-padding\",\n",
    "        \"no-null-cipher\",\n",
    "        \"gcm-nonce-reuse\",\n",
    "        \"gcm-detection\",\n",
    "        \"ecb-cipher\",\n",
    "        \"desede-is-deprecated\",\n",
    "        \"des-is-deprecated\",\n",
    "    ],\n",
    "    \"csharp\": [\n",
    "        \"use_weak_rsa_encryption_padding\",\n",
    "        \"use_deprecated_cipher_algorithm\",\n",
    "        \"X509Certificate2-privkey\"\n",
    "    ],\n",
    "    \"javascript\": [\n",
    "        \"aead-no-final\",\n",
    "        \"create-de-cipher-no-iv\",\n",
    "        \"gcm-no-tag-length\",\n",
    "        \"md5-used-as-password\",\n",
    "    ],\n",
    "    \"php\": [\n",
    "        \"weak-crypto\",\n",
    "        \"md5-used-as-password\",\n",
    "        \"md5-loose-equality\",\n",
    "        \"mcrypt-use\",\n",
    "        \"openssl-decrypt-validate\",\n",
    "    ],\n",
    "    \"python\": [\n",
    "        \"crypto-mode-without-authentication\",\n",
    "        \"insufficient-rsa-key-size\",\n",
    "        \"insufficient-dsa-key-size\",\n",
    "        \"insecure-hash-algorithm-sha1\",\n",
    "        \"insecure-hash-algorithm-md5\",\n",
    "        \"insecure-hash-algorithm-md4\",\n",
    "        \"insecure-hash-algorithm-md2\",\n",
    "        \"insecure-cipher-algorithm-xor\",\n",
    "        \"insecure-cipher-algorithm-rc4\",\n",
    "        \"insecure-cipher-algorithm-rc2\",\n",
    "        \"insecure-cipher-algorithm-des\",\n",
    "        \"insecure-cipher-algorithm-blowfish\",\n",
    "        \"insecure-hash-function\",\n",
    "        \"insecure-hash-algorithm-sha1\",\n",
    "        \"md5-used-as-password\",\n",
    "        \"hashids-with-django-secret\",\n",
    "        \"crypto-mode-without-authentication\",\n",
    "        \"insufficient-ec-key-size\",\n",
    "        \"insecure-cipher-mode-ecb\",\n",
    "        \"insecure-cipher-algorithm-idea\",\n",
    "        \"insecure-cipher-algorithm-arc4\",\n",
    "        \"empty-aes-key\",\n",
    "    ]\n",
    "}"
   ]
  },
  {
   "cell_type": "code",
   "execution_count": 20,
   "metadata": {},
   "outputs": [
    {
     "name": "stdout",
     "output_type": "stream",
     "text": [
      "java 16\n",
      "csharp 3\n",
      "javascript 4\n",
      "php 5\n",
      "python 22\n"
     ]
    }
   ],
   "source": [
    "for key, value in allowed_rules.items():\n",
    "    print(key, len(value))"
   ]
  },
  {
   "cell_type": "code",
   "execution_count": 15,
   "metadata": {},
   "outputs": [
    {
     "name": "stdout",
     "output_type": "stream",
     "text": [
      "Rules and their Occurrences (unique conversation hashes and total occurrences):\n",
      "Rule: use-of-md5, Unique Conversation Hashes Count: 7, Picture of hashes: {'b7392d11fd4fb15e24e085a10c7757f4', 'aa29876ac06b2ddbd22210da34e3936c', '0b7e60ee78f56ea4ea40a586da334163', '5d88b53049b7f7b39f5ed4f2bb932987', '66697ed0c18248780d802e923e275b4e', 'b3a866b6f359d675053b9d75f5aeadea', '3df0dab6da4d5d90b2df561804993bee'}\n",
      "Rule: desede-is-deprecated, Unique Conversation Hashes Count: 1, Picture of hashes: {'1fe2948bd6633ee13cd8966bd875bb1d'}\n",
      "Rule: des-is-deprecated, Unique Conversation Hashes Count: 1, Picture of hashes: {'1fe2948bd6633ee13cd8966bd875bb1d'}\n",
      "Rule: ecb-cipher, Unique Conversation Hashes Count: 1, Picture of hashes: {'5aca47b467de285189f8dcd13033974f'}\n",
      "Rule: use-of-aes-ecb, Unique Conversation Hashes Count: 1, Picture of hashes: {'5aca47b467de285189f8dcd13033974f'}\n",
      "Rule: use-of-default-aes, Unique Conversation Hashes Count: 1, Picture of hashes: {'908efbc83f60e0b3798e4ab8fb75cc3a'}\n",
      "Rule: weak-crypto, Unique Conversation Hashes Count: 2, Picture of hashes: {'87e06c38f8adb9651589c8343f3defef', '9d92e524965a6360d5341b0607b84923'}\n",
      "Rule: openssl-decrypt-validate, Unique Conversation Hashes Count: 1, Picture of hashes: {'ed1bf42728e58f8f83da851df3f48d92'}\n",
      "Rule: insecure-hash-algorithm-md5, Unique Conversation Hashes Count: 33, Picture of hashes: {'07a7a0cbdc11981c216d5ac94f0164c5', 'de0d06e32b38fce9ad16c2bb6d562145', 'bfbc738cccede35b155af2e71ea1c80c', 'ee52ab87f6ce9e49a1ebfd5394c3a866', 'ef95b1fd646379a0bf90ef0371cfd606', '27dee74dfed81eacfa97086d2473f3a1', 'cad6590e1069da88a3c35cd5ff2555ef', '727b04a20e0710904bf555817a39852a', '3b3e98b8799d16959cb499c23da25f82', 'c4479b000be99fe944b8f3a80094193e', '542738c8fa4748a4d2662055f60d9732', '0c211f9991df4cc34cd7c8d90d050ec0', 'a7b539b5fdf0d9927831d2cda16fcb45', 'e653cf623869321f839d4f457e7def11', 'f0b1cefb543177378d8c12bea364286f', '8576f44937d3e1bb0237f83c978de2ba', '17681277cdffff1f2b16f6d82b5ed64f', 'c5b06d7408fa3f9a9c0441c3a0426bd7', '6b66fc592e16a7b2b9765e397e547895', 'bc4499cbfdd34783bfd549ab14db5464', 'c7d2b8045ac1ba8028a6386c7595408b', 'a2e231af54c8249adde814d28a28b46f', 'd2debc255c2c77a4021f218b89eff91d', '6a6479823718eca0f3378d4b918b6a4b', 'e08b8d5dc8e356ad37ed4755afc216c3', 'c4685ccab1e22d8b4b0a906781b8db24', '4709d3275bb1fc200c7e41ebd381eb8f', '4a7fc5eda52813dce01316e1989682ce', '76eb0a15e970ab1f0c6ae2cb5d051d9c', 'bfc640e97521fe02662a91f772630fac', '197e0ed36ead63a5e842a1ca211666d3', '81587f2bdb4b6ba1c02544e464124e28', '071e87589bb1fe6c555cced1fda58df7'}\n",
      "Rule: insecure-hash-algorithm-sha1, Unique Conversation Hashes Count: 4, Picture of hashes: {'9e1546d2ae3720c75caae9bb328a9f53', 'a7b539b5fdf0d9927831d2cda16fcb45', 'a0f78af2d78cb4c7b4a0f07191fdf5c5', '32180b0ffd420f96c9418ad849d7e691'}\n",
      "Rule: crypto-mode-without-authentication, Unique Conversation Hashes Count: 4, Picture of hashes: {'418d5d20ded75d8f64bee48e80d09bd8', '7afeec5aaf9a33b502baf9eb12c6bffa', 'cc6ed4123ed1544e5a906ad961df82f0', '8fa9d76b6d248817498e03abc595bb4f'}\n",
      "Rule: insecure-cipher-algorithm-des, Unique Conversation Hashes Count: 1, Picture of hashes: {'a6b3f1d4719079ddb3ce5e48fe2aca29'}\n",
      "Rule: md5-used-as-password, Unique Conversation Hashes Count: 2, Picture of hashes: {'c4479b000be99fe944b8f3a80094193e', 'e653cf623869321f839d4f457e7def11'}\n"
     ]
    }
   ],
   "source": [
    "# Flatten the allowed rules into a single list\n",
    "allowed_rules_list = [rule for sublist in allowed_rules.values() for rule in sublist]\n",
    "results = defaultdict(lambda: {\"count\": 0, \"hashes\": set()})\n",
    "# Read the CSV file\n",
    "with open('codegrep_results.csv', mode='r') as csv_file:\n",
    "    csv_reader = csv.DictReader(csv_file)\n",
    "\n",
    "    for row in csv_reader:\n",
    "        error_id = row['error_id'].split('.')[-1]  # Extract the last part of the error_id\n",
    "        if error_id in allowed_rules_list:\n",
    "            conversation_hash = row['conversation_hash']\n",
    "            if error_id in results:\n",
    "                # Update the count and add the hash to the set\n",
    "                results[error_id][\"count\"] += 1\n",
    "                results[error_id][\"hashes\"].add(conversation_hash)\n",
    "            else:\n",
    "                # Initialize a new entry\n",
    "                results[error_id] = {\"count\": 1, \"hashes\": {conversation_hash}}         \n",
    "            \n",
    "print(\"Rules and their Occurrences (unique conversation hashes and total occurrences):\")\n",
    "for rule in results:\n",
    "    count = results[rule][\"count\"]\n",
    "    unique_hashes = results[rule][\"hashes\"]\n",
    "    print(f\"Rule: {rule}, Unique Conversation Hashes Count: {len(unique_hashes)}, Picture of hashes: {unique_hashes}\")\n",
    "\n"
   ]
  },
  {
   "cell_type": "markdown",
   "metadata": {},
   "source": [
    "## Total statistics"
   ]
  },
  {
   "cell_type": "code",
   "execution_count": 17,
   "metadata": {},
   "outputs": [],
   "source": [
    "unique_convo_hash_bad = 0\n",
    "for rule in results:\n",
    "    count = results[rule][\"count\"]\n",
    "    unique_hashes = results[rule][\"hashes\"]\n",
    "    unique_convo_hash_bad += len(unique_hashes)\n"
   ]
  },
  {
   "cell_type": "code",
   "execution_count": 19,
   "metadata": {},
   "outputs": [
    {
     "name": "stdout",
     "output_type": "stream",
     "text": [
      "264 59\n",
      "0.22348484848484848\n"
     ]
    }
   ],
   "source": [
    "print(unique_convo_hash_good, unique_convo_hash_bad)\n",
    "print(unique_convo_hash_bad / unique_convo_hash_good)"
   ]
  }
 ],
 "metadata": {
  "kernelspec": {
   "display_name": "venv",
   "language": "python",
   "name": "python3"
  },
  "language_info": {
   "codemirror_mode": {
    "name": "ipython",
    "version": 3
   },
   "file_extension": ".py",
   "mimetype": "text/x-python",
   "name": "python",
   "nbconvert_exporter": "python",
   "pygments_lexer": "ipython3",
   "version": "3.10.12"
  }
 },
 "nbformat": 4,
 "nbformat_minor": 2
}
