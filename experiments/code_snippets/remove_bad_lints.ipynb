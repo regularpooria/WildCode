{
 "cells": [
  {
   "cell_type": "code",
   "execution_count": null,
   "metadata": {},
   "outputs": [],
   "source": [
    "import json\n",
    "import os"
   ]
  },
  {
   "cell_type": "code",
   "execution_count": null,
   "metadata": {},
   "outputs": [],
   "source": [
    "DIRECTORY = \"../../results/\"\n",
    "linting_paths = {\n",
    "    \"c\" : DIRECTORY + \"c_lint.json\",\n",
    "    \"csharp\": DIRECTORY + \"csharp_lint.json\",\n",
    "    \"java\": DIRECTORY + \"java_lint.json\",\n",
    "    \"javascript\": DIRECTORY + \"js_lint.json\",\n",
    "    \"php\": DIRECTORY + \"php_lint.json\",\n",
    "    \"python\": DIRECTORY + \"python_lint.json\"\n",
    "}"
   ]
  },
  {
   "cell_type": "code",
   "execution_count": null,
   "metadata": {},
   "outputs": [],
   "source": [
    "with open(\"../../tmp/code_snippets.json\", \"r\", encoding=\"utf-8\") as f:\n",
    "    code_snippets = json.load(f)"
   ]
  },
  {
   "cell_type": "code",
   "execution_count": null,
   "metadata": {},
   "outputs": [],
   "source": [
    "for linting_path in linting_paths:\n",
    "    with open(linting_path, \"r\", encoding=\"utf-8\") as f:\n",
    "        linting_data = json.load(f)\n",
    "\n",
    "    for row in linting_data:\n",
    "        filename = row[\"module\"]\n",
    "        \n",
    "        # Extract data\n",
    "        conversation_hash = filename.split(\"_\")[0]\n",
    "        code_index = filename.split(\"_\")[1].split(\".\")[0]\n",
    "        \n",
    "        for idx, code_snippet in enumerate(code_snippets):\n",
    "            if code_snippet[\"conversation_hash\"] == conversation_hash and code_snippet[\"code_index\"] == code_index:\n",
    "                del code_snippets[idx]\n",
    "                break"
   ]
  },
  {
   "cell_type": "code",
   "execution_count": null,
   "metadata": {},
   "outputs": [],
   "source": [
    "with open(\"../../tmp/code_snippets.json\", \"w\", encoding=\"utf-8\") as f:\n",
    "    json.dump(code_snippets, f)"
   ]
  }
 ],
 "metadata": {
  "language_info": {
   "name": "python"
  }
 },
 "nbformat": 4,
 "nbformat_minor": 2
}
