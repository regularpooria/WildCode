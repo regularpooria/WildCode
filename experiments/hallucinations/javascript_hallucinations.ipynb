{
  "cells": [
    {
      "cell_type": "code",
      "execution_count": 1,
      "metadata": {},
      "outputs": [
        {
          "data": {
            "application/vnd.jupyter.widget-view+json": {
              "model_id": "167719739a5d41818d9cbb5e366fa028",
              "version_major": 2,
              "version_minor": 0
            },
            "text/plain": [
              "Resolving data files:   0%|          | 0/25 [00:00<?, ?it/s]"
            ]
          },
          "metadata": {},
          "output_type": "display_data"
        }
      ],
      "source": [
        "from datasets import load_dataset\n",
        "\n",
        "# Login using e.g. `huggingface-cli login` to access this dataset\n",
        "ds = load_dataset(\"regularpooria/wildcode\")"
      ]
    },
    {
      "cell_type": "code",
      "execution_count": 2,
      "metadata": {},
      "outputs": [],
      "source": [
        "import os\n",
        "import json\n",
        "import re\n",
        "from typing import List"
      ]
    },
    {
      "cell_type": "code",
      "execution_count": 3,
      "metadata": {},
      "outputs": [],
      "source": [
        "pattern = r\"\"\"\n",
        "    # require(\"...\")\n",
        "    require\\s*\\(\\s*[\"'`](.*?)[\"'`]\\s*\\)\n",
        "  | # import ... from \"...\"\n",
        "    import\\s+(?:type\\s+)?(?:[\\w*{}\\s,]*\\s+from\\s+)?[\"'`](.*?)[\"'`]\n",
        "  | # dynamic import(\"...\")\n",
        "    import\\s*\\(\\s*[\"'`](.*?)[\"'`]\\s*\\)\n",
        "  | # import fs = require(\"fs\")\n",
        "    import\\s+\\w+\\s*=\\s*require\\(\\s*[\"'`](.*?)[\"'`]\\s*\\)\n",
        "\"\"\""
      ]
    },
    {
      "cell_type": "code",
      "execution_count": 4,
      "metadata": {},
      "outputs": [],
      "source": [
        "def normalize_package(name: str) -> str:\n",
        "    # Scoped packages: @scope/pkg/submodule → @scope/pkg\n",
        "    if name.startswith(\"@\"):\n",
        "        parts = name.split(\"/\")\n",
        "        if len(parts) >= 2:\n",
        "            return \"/\".join(parts[:2])\n",
        "        return name\n",
        "    \n",
        "    # Normal packages: pkg/submodule → pkg\n",
        "    if \"/\" in name:\n",
        "        return name.split(\"/\")[0]\n",
        "    \n",
        "    return name\n",
        "def remove_colon(name: str) -> str:\n",
        "    if name.endswith(\":\"):\n",
        "        return name[:-1]\n",
        "    return name\n",
        "def parse_imports(code: str) -> List[str]:\n",
        "    matches = re.findall(pattern, code, re.VERBOSE)\n",
        "    modules = [m for group in matches for m in group if m]  # flatten\n",
        "    \n",
        "    # Remove local/relative imports\n",
        "    third_party = [\n",
        "        remove_colon(normalize_package(m))\n",
        "        for m in modules\n",
        "        if not (m.startswith(\"./\") or m.startswith(\"../\") or m.startswith(\"/\") or m.startswith(\"@/\"))\n",
        "    ]\n",
        "    \n",
        "    return third_party"
      ]
    },
    {
      "cell_type": "code",
      "execution_count": 5,
      "metadata": {},
      "outputs": [
        {
          "name": "stdout",
          "output_type": "stream",
          "text": [
            "['express', 'fs', 'path', 'dotenv', 'fs', 'firebase']\n"
          ]
        }
      ],
      "source": [
        "# Testing to see if it works\n",
        "code = \"\"\"\n",
        "const express = require(\"express\");\n",
        "import fs from \"fs\";\n",
        "import { join } from \"path\";\n",
        "import * as utils from \"./utils.js\";\n",
        "import \"dotenv/config\";\n",
        "await import(\"./dynamicModule.js\");\n",
        "import type { User } from \"./types\";\n",
        "import fs = require(\"fs\");\n",
        "import firebase from \"firebase/app\";\n",
        "\"\"\"\n",
        "print(parse_imports(code))\n"
      ]
    },
    {
      "cell_type": "code",
      "execution_count": 6,
      "metadata": {},
      "outputs": [],
      "source": [
        "javascript_rows = list(filter(lambda x: x[\"language\"] == \"JavaScript\", ds[\"train\"]))\n",
        "for idx, row in enumerate(javascript_rows):\n",
        "    javascript_rows[idx][\"libraries\"] = parse_imports(row[\"code\"])"
      ]
    },
    {
      "cell_type": "code",
      "execution_count": 7,
      "metadata": {},
      "outputs": [
        {
          "data": {
            "text/plain": [
              "{'conversation_hash': 'f70f171081d6ecf4b3863b0fbb7577c3',\n",
              " 'code_index': 1,\n",
              " 'language': 'JavaScript',\n",
              " 'libraries': ['express', 'firebase-admin', 'body-parser', 'cors'],\n",
              " 'code': \"const express = require('express');\\nconst admin = require('firebase-admin');\\nconst bodyParser = require('body-parser');\\nconst cors = require('cors');\\n\\nconst app = express();\\napp.use(cors());\\napp.use(bodyParser.json());\\n\\nvar serviceAccount = require('./path/to/your/firebase-adminsdk-key.json');\\n\\nadmin.initializeApp({\\n  credential: admin.credential.cert(serviceAccount)\\n});\\n\\nconst db = admin.firestore();\\n\\n// Add business\\napp.post('/business', async (req, res) => {\\n  // TODO: Implement adding a new business to Firestore\\n});\\n\\n// Get businesses\\napp.get('/businesses', async (req, res) => {\\n  // TODO: Implement getting businesses from Firestore\\n});\\n\\n// Add review\\napp.post('/review', async (req, res) => {\\n  // TODO: Implement adding a review to a business\\n});\\n\\n// Set up server\\nconst PORT = process.env.PORT || 8000;\\napp.listen(PORT, () => {\\n  console.log(`Server running on port ${PORT}`);\\n});\",\n",
              " 'filename': 'f70f171081d6ecf4b3863b0fbb7577c3_1.js'}"
            ]
          },
          "execution_count": 7,
          "metadata": {},
          "output_type": "execute_result"
        }
      ],
      "source": [
        "javascript_rows[0]"
      ]
    },
    {
      "cell_type": "code",
      "execution_count": 8,
      "metadata": {},
      "outputs": [
        {
          "name": "stdout",
          "output_type": "stream",
          "text": [
            "606\n"
          ]
        }
      ],
      "source": [
        "libraries = {}\n",
        "conversation_hashes = {}\n",
        "\n",
        "for row in javascript_rows:\n",
        "    for library in row[\"libraries\"]:\n",
        "        if library in libraries:\n",
        "            libraries[library] += 1\n",
        "        else:\n",
        "            libraries[library] = 1\n",
        "    \n",
        "        if library in conversation_hashes:\n",
        "            conversation_hashes[library].append(row[\"conversation_hash\"])\n",
        "        else:\n",
        "            conversation_hashes[library] = [row[\"conversation_hash\"]]\n",
        "            \n",
        "libraries = dict(sorted(libraries.items(), key=lambda x: x[1], reverse=True))\n",
        "print(len(libraries))"
      ]
    },
    {
      "cell_type": "code",
      "execution_count": 9,
      "metadata": {},
      "outputs": [],
      "source": [
        "os.makedirs(\"tmp\", exist_ok=True)\n",
        "with open(\"../../tmp/javascript_imports_list_hash.json\", \"w\", encoding=\"utf-8\") as f:\n",
        "    json.dump(conversation_hashes, f)"
      ]
    },
    {
      "cell_type": "code",
      "execution_count": 9,
      "metadata": {},
      "outputs": [],
      "source": [
        "with open(\"../../utils/all-the-package-names/names.json\", \"r\", encoding=\"utf-8\") as f:\n",
        "    npm_dataset = json.load(f)"
      ]
    },
    {
      "cell_type": "code",
      "execution_count": 10,
      "metadata": {},
      "outputs": [],
      "source": [
        "with open(\"../../utils/javascript/builtin-modules/builtin-modules.json\", \"r\", encoding=\"utf-8\") as f:\n",
        "    builtin_modules = json.load(f)"
      ]
    },
    {
      "cell_type": "code",
      "execution_count": 11,
      "metadata": {},
      "outputs": [
        {
          "name": "stdout",
          "output_type": "stream",
          "text": [
            "46\n"
          ]
        }
      ],
      "source": [
        "libraries = {k: v for k, v in libraries.items() if k not in npm_dataset}\n",
        "libraries = {k: v for k, v in libraries.items() if k not in builtin_modules}\n",
        "print(len(libraries))"
      ]
    },
    {
      "cell_type": "code",
      "execution_count": 12,
      "metadata": {},
      "outputs": [],
      "source": [
        "with open(\"../../results/hallucinations_javascript.json\", \"w\", encoding=\"utf-8\") as f:\n",
        "    json.dump(libraries, f)"
      ]
    }
  ],
  "metadata": {
    "kernelspec": {
      "display_name": "venv",
      "language": "python",
      "name": "python3"
    },
    "language_info": {
      "codemirror_mode": {
        "name": "ipython",
        "version": 3
      },
      "file_extension": ".py",
      "mimetype": "text/x-python",
      "name": "python",
      "nbconvert_exporter": "python",
      "pygments_lexer": "ipython3",
      "version": "3.10.12"
    }
  },
  "nbformat": 4,
  "nbformat_minor": 2
}
