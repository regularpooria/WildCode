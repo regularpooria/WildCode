{
 "cells": [
  {
   "cell_type": "code",
   "execution_count": 1,
   "metadata": {},
   "outputs": [],
   "source": [
    "import json\n",
    "from cohere import ClientV2\n",
    "from openai import OpenAI\n",
    "import time\n"
   ]
  },
  {
   "cell_type": "code",
   "execution_count": null,
   "metadata": {},
   "outputs": [],
   "source": [
    "LANGUAGE = \"javascript\"\n",
    "PACKAGE_MANAGER = \"NPM\"\n",
    "\n",
    "# LANGUAGE = \"python\"\n",
    "# PACKAGE_MANAGER = \"PYPI\"\n",
    "\n"
   ]
  },
  {
   "cell_type": "code",
   "execution_count": 2,
   "metadata": {},
   "outputs": [
    {
     "data": {
      "text/plain": [
       "46"
      ]
     },
     "execution_count": 2,
     "metadata": {},
     "output_type": "execute_result"
    }
   ],
   "source": [
    "with open(f\"../../results/hallucinations_{LANGUAGE}.json\", \"r\", encoding=\"utf-8\") as f:\n",
    "    data = json.load(f)\n",
    "    \n",
    "data = dict(sorted(data.items(), key=lambda x: (-x[1], x[0])))\n",
    "len(data)"
   ]
  },
  {
   "cell_type": "code",
   "execution_count": null,
   "metadata": {},
   "outputs": [],
   "source": [
    "SECRET = \"\""
   ]
  },
  {
   "cell_type": "code",
   "execution_count": 7,
   "metadata": {},
   "outputs": [],
   "source": [
    "\n",
    "client = OpenAI(\n",
    "  base_url=\"https://openrouter.ai/api/v1\",\n",
    "  api_key=SECRET,\n",
    ")\n",
    "\n",
    "\n",
    "def ask_llm(library_name: str):\n",
    "    output = client.chat.completions.create(\n",
    "\t\tmodel=\"deepseek/deepseek-r1-0528-qwen3-8b:online\",\n",
    "\t\t#\":online\" here means it uses google search.\n",
    "\t\tmessages=[\n",
    "\t\t\t\t\t{\n",
    "\t\t\t\t\t\t\"role\": \"system\",\n",
    "\t\t\t\t\t\t\"content\": f\"You are a helpful assistant that given a {LANGUAGE} library name, determines whether the library is a real {LANGUAGE} library that you can find in {PACKAGE_MANAGER}. Use google search to see if library exists. You will answer with either \\\"YES\\\" if it's a real {LANGUAGE} library and \\\"NO\\\" if it isn't. No other words.\"\n",
    "\t\t\t\t\t},\n",
    "\t\t\t\t\t{\n",
    "\t\t\t\t\t\t\"role\": \"user\",\n",
    "\t\t\t\t\t\t\"content\": library_name\n",
    "\t\t\t\t\t}\n",
    "\t\t\t\t],\n",
    "\t)  \n",
    "    return output.choices[0].message.content"
   ]
  },
  {
   "cell_type": "code",
   "execution_count": 8,
   "metadata": {},
   "outputs": [
    {
     "data": {
      "text/plain": [
       "'YES [github.com/colyseus/colyseus](https://github.com/colyseus/colyseus), [npmjs.com/colyseus](https://www.npmjs.com/package/colyseus)'"
      ]
     },
     "execution_count": 8,
     "metadata": {},
     "output_type": "execute_result"
    }
   ],
   "source": [
    "ask_llm(\"colyseus\")"
   ]
  },
  {
   "cell_type": "code",
   "execution_count": 12,
   "metadata": {},
   "outputs": [],
   "source": [
    "hallucinated = {}\n",
    "not_hallucinated = []"
   ]
  },
  {
   "cell_type": "code",
   "execution_count": 13,
   "metadata": {},
   "outputs": [
    {
     "name": "stdout",
     "output_type": "stream",
     "text": [
      "NO\n",
      "Penduel is NOT a real library, occurrence: 15\n",
      "[github.com/keycloak/keycloak](https://github.com/keycloak/keycloak) [npmjs.com/package/keycloak-js](https://www.npmjs.com/package/keycloak-js) [keycloak.org](https://www.keycloak.org/)[medium.com](https://medium.com/)[github.com](https://github.com/keycloak/keycloak-client)\n",
      "your-keycloak-library yielded in neither no or yes\n",
      "NO\n",
      "${newPackagePath} is NOT a real library, occurrence: 4\n",
      "NO\n",
      "${oldPackagePath} is NOT a real library, occurrence: 4\n",
      "[github.com/XinFinOrg/MyContract](https://github.com/XinFinOrg/MyContract)\n",
      "MyContract yielded in neither no or yes\n",
      "NO\n",
      "Shares is NOT a real library, occurrence: 3\n",
      "Based on web search results, \"@colyseus/nomination\" is not explicitly referenced in the provided information, such as the official Colyseus documentation or NPM package listings. It is also not listed among the known related packages like \"@colyseus/social\", \"@colyseus/monitor\", or similar tools. Without evidence confirming its existence, the answer is \"NO\".\n",
      "@colyseus/nomination is NOT a real library, occurrence: 2\n",
      "[github.com](https://github.com/hiyorin/Gamebase-Core)\n",
      "GameBase.sol yielded in neither no or yes\n",
      "[filene.org](https://www.filene.org/reports/introducing-loannft-a-blockchain-solution-for-the-secondary-loan-market)\n",
      "LoanNFT yielded in neither no or yes\n",
      "[Players Group Management](https://playersgroupmanagement.com/player-management/), [Player Management System Football](https://dotcomsport.nl/us/player-management-system-football/), [LIFT Sports Management](https://www.liftsm.com/), [Excel Sports Management](https://excelsm.com/), [American Sports Management](https://www.americansportsmgmt.com/)\n",
      "PlayerManagement yielded in neither no or yes\n",
      "NO\n",
      "cesta_k_suboru is NOT a real library, occurrence: 2\n",
      "NO\n",
      "halton-sequence is NOT a real library, occurrence: 2\n",
      "NO\n",
      "istanbul-compare is NOT a real library, occurrence: 2\n",
      "[webdriver.io/docs/webdriver-mock-service/](https://webdriver.io/docs/webdriver-mock-service/)\n",
      "webdriverio-mock-service yielded in neither no or yes\n",
      "[No relevant sources mention $lib being a standalone JavaScript/Node.js library available on NPM. The term $lib relates to SvelteKit's file import alias and NimLang's macros, but neither serves as a distributable NPM package.](https://svelte.dev/docs/kit/$lib)\n",
      "$lib yielded in neither no or yes\n",
      "NO\n",
      "@chainstack/truffle-provider is NOT a real library, occurrence: 1\n",
      "[www.npmjs.com/package/colyseus](https://www.npmjs.com/package/colyseus)\n",
      "@colyseus/redis yielded in neither no or yes\n",
      "[expo-firebase-app](https://www.npmjs.com/package/expo-firebase-app?activeTab=explore)\n",
      "@expo/firebase-app yielded in neither no or yes\n",
      "NO\n",
      "@flashbots/mew is NOT a real library, occurrence: 1\n",
      "NO\n",
      "@huggingface/node-huggingface is NOT a real library, occurrence: 1\n",
      "[no domain found](#)\n",
      "@nuxt/runtime yielded in neither no or yes\n",
      "[gamebase.app](https://gamebase.app/)\n",
      "GameBase yielded in neither no or yes\n",
      "NO\n",
      "L2BlastBridge is NOT a real library, occurrence: 1\n",
      "[ ]( )\n",
      "MicroFrontend1 yielded in neither no or yes\n",
      "NO\n",
      "Penduel.sol is NOT a real library, occurrence: 1\n",
      "[no results found](https://www.example.com/search-results)\n",
      "PlayerManagement.sol yielded in neither no or yes\n",
      "NO\n",
      "SmartContract is NOT a real library, occurrence: 1\n",
      "[convertft.com](https://convertft.com/image-tools/auto-rotate), [MDN Web Docs](https://developer.mozilla.org/en-US/docs/Web/CSS/image-orientation), [imgix.com](https://docs.imgix.com/en-US/apis/rendering/rotation/orientation), [Roboflow Blog](https://blog.roboflow.com/exif-auto-orientation/)\n",
      "auto-orient yielded in neither no or yes\n",
      "CloudWatchRUM is integrated with AWS services such as Amazon CloudFront and React applications, and has dedicated SDK clients for various languages including Java and Python (boto3). However, there is no standalone NPM package named 'awsRum' available in the provided search results [1-5]. \n",
      "\n",
      "Therefore, if you are specifically looking for a 'awsRum' library on NPM, it does not appear in the links provided.\n",
      "\n",
      "Answer: NO\n",
      "awsRum is NOT a real library, occurrence: 1\n",
      "[docu-magazine.com](https://docu-magazine.com/), [tadsonbussey.com](https://www.tadsonbussey.com/journal/best-documentary-and-street), [shotdoc.com](http://www.shotdoc.com/), [docuscripts.com](https://docuscripts.com/), [mydotshot.com](https://mydotshot.com/)\n",
      "docushot yielded in neither no or yes\n",
      "NO\n",
      "effecto is NOT a real library, occurrence: 1\n",
      "NO\n",
      "jjpluginFacebookChat_by_ObscurusGrassator is NOT a real library, occurrence: 1\n",
      "NO\n",
      "nama-module is NOT a real library, occurrence: 1\n",
      "[geeksforgeeks.org](https://www.geeksforgeeks.org/reactjs/next-js-next-amp/)\n",
      "next-plugin-amp yielded in neither no or yes\n",
      "NO\n",
      "pdf2image is NOT a real library, occurrence: 1\n",
      "YES [cdnjs.com/libraries/playcanvas](https://cdnjs.com/libraries/playcanvas)\n",
      "[the-qrcode-scanner.com](https://the-qrcode-scanner.com/), [scanqr.org](https://scanqr.org/), [dnschecker.org](https://dnschecker.org/qr-code-scanner.php), [qrscanner.net](https://qrscanner.net/) — NO\n",
      "qr-reader is NOT a real library, occurrence: 1\n",
      "According to the information, Qwik.js is mentioned as a framework for building instant-loading web apps with features like JSX support, resumability, and lazy loading. Multiple sources, including a dev.to article, QwikSchool, the Qwik documentation, and the official Qwik GitHub repository, discuss Qwik.js/related concepts. Therefore, Qwik.js is recognized as a legitimate framework, which is likely available on NPM.\n",
      "\n",
      "**YES**\n",
      "YES\n",
      "NO\n",
      "schart-vue is NOT a real library, occurrence: 1\n",
      "YES\n",
      "[stacksjs/vite-plugin-layouts](https://github.com/stacksjs/vite-plugin-layouts)[npmjs.com](https://www.npmjs.com/package/vite-plugin-vue-layouts)[npmtrends.com/vite-plugin-vue-layouts)\n",
      "vite-plugin-vue-layout yielded in neither no or yes\n",
      "YES [vue-meta.nuxtjs.org](https://vue-meta.nuxtjs.org/)\n",
      "\n",
      "YES [npmjs.com](https://www.npmjs.com/package/vue-meta)\n",
      "\n",
      "YES [asperbrothers.com](https://asperbrothers.com/blog/vue-seo/)\n",
      "\n",
      "YES [vueschool.io](https://vueschool.io/lessons/use-vue-meta-to-set-dynamic-title-and-meta-data)\n",
      "\n",
      "YES [digitalocean.com](https://www.digitalocean.com/community/tutorials/vuejs-vue-meta)\n",
      "[umich.edu](https://libguides-library.arizona.edu/az/databases)\n",
      "your-database-library yielded in neither no or yes\n",
      "[ru.wikipedia.org/wiki/%D0%91%D0%B8%D0%B1%D0%B9%D0%B5%D0%BA%D0%B1%D0%AF](https://ru.wikipedia.org/wiki/%D0%91%D0%B8%D0%B1%D0%B9%D0%B5%D0%BE%D0%BA%D0%B2%D0%B1%D1%88%D0%B1)[rusneb.ru](https://rusneb.ru/)[elibrary.ru](https://elibrary.ru/)[lib.ru](https://lib.ru/)\n",
      "библиотека yielded in neither no or yes\n",
      "[stable-diffusion.info](https://stable-diffusion.info/ru/)\n",
      "путь_к_модели yielded in neither no or yes\n"
     ]
    }
   ],
   "source": [
    "for name in data.keys():\n",
    "    if name in not_hallucinated or name in hallucinated:\n",
    "        continue\n",
    "    \n",
    "    response = ask_llm(name)\n",
    "    print(response)\n",
    "    if \"YES\" in response:\n",
    "        not_hallucinated.append(name)\n",
    "    elif \"NO\" in response:\n",
    "        print(f\"{name} is NOT a real library, occurrence: {data[name]}\")\n",
    "        hallucinated[name] = data[name]\n",
    "    else:\n",
    "        print(f\"{name} yielded in neither no or yes\")\n",
    "        hallucinated[name] = data[name]\n",
    "        \n",
    "    # time.sleep(60/40)"
   ]
  },
  {
   "cell_type": "code",
   "execution_count": 14,
   "metadata": {},
   "outputs": [],
   "source": [
    "with open(f\"../../results/hallucinations_{LANGUAGE}_cleaned_with_ai.json\", \"w\", encoding=\"utf-8\") as f:\n",
    "    f.write(json.dumps(hallucinated, indent=2))"
   ]
  },
  {
   "cell_type": "code",
   "execution_count": 15,
   "metadata": {},
   "outputs": [
    {
     "name": "stdout",
     "output_type": "stream",
     "text": [
      "27\n"
     ]
    }
   ],
   "source": [
    "with open(f\"../../results/hallucinations_{LANGUAGE}_cleaned_with_ai.json\", \"r\", encoding=\"utf-8\") as f:\n",
    "    data = json.load(f)\n",
    "    x = 0\n",
    "    for a in data:\n",
    "        if data[a] == 1:\n",
    "            x += 1\n",
    "    print(x)"
   ]
  }
 ],
 "metadata": {
  "kernelspec": {
   "display_name": "venv",
   "language": "python",
   "name": "python3"
  },
  "language_info": {
   "codemirror_mode": {
    "name": "ipython",
    "version": 3
   },
   "file_extension": ".py",
   "mimetype": "text/x-python",
   "name": "python",
   "nbconvert_exporter": "python",
   "pygments_lexer": "ipython3",
   "version": "3.10.12"
  }
 },
 "nbformat": 4,
 "nbformat_minor": 2
}
