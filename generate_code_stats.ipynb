{
 "cells": [
  {
   "cell_type": "code",
   "execution_count": 1,
   "metadata": {},
   "outputs": [],
   "source": [
    "from datasets import load_dataset as hf_load_dataset\n",
    "from numpy import std\n",
    "import re\n",
    "import os"
   ]
  },
  {
   "cell_type": "code",
   "execution_count": 2,
   "metadata": {},
   "outputs": [
    {
     "name": "stdout",
     "output_type": "stream",
     "text": [
      "{'c': 12, 'csharp': 48, 'java': 117, 'javascript': 163, 'php': 62, 'python': 246}\n"
     ]
    }
   ],
   "source": [
    "# Generate stats about the rules\n",
    "languages = [\n",
    "    \"c\",\n",
    "    \"csharp\",\n",
    "    \"java\",\n",
    "    \"javascript\",\n",
    "    \"php\",\n",
    "    \"python\",\n",
    "]\n",
    "def find_security_yaml_rules(src_root: str):\n",
    "    \"\"\"\n",
    "    Walk src_root, find all .yaml files under any 'security' folder\n",
    "    \"\"\"\n",
    "    output = []\n",
    "    for root, dirs, files in os.walk(src_root):\n",
    "        # only consider paths that have 'security' in their hierarchy\n",
    "        if 'security' in root.split(os.sep):\n",
    "            for file in files:\n",
    "                if file.endswith('.yaml'):\n",
    "                    # compute relative path under src_root\n",
    "                    src_file = os.path.join(root, file)\n",
    "                    output.append(src_file)\n",
    "                    \n",
    "    return output\n",
    "\n",
    "security_rules = {}\n",
    "for language in languages:\n",
    "    if not os.path.exists(f\"opengrep-rules/{language}\"):\n",
    "        continue\n",
    "    files = find_security_yaml_rules(f\"opengrep-rules/{language}\")\n",
    "    security_rules[language] = len(files)\n",
    "    \n",
    "print(security_rules)"
   ]
  },
  {
   "cell_type": "code",
   "execution_count": 3,
   "metadata": {},
   "outputs": [
    {
     "data": {
      "application/vnd.jupyter.widget-view+json": {
       "model_id": "fcea53dc830a4bedba070d215abd1047",
       "version_major": 2,
       "version_minor": 0
      },
      "text/plain": [
       "Resolving data files:   0%|          | 0/25 [00:00<?, ?it/s]"
      ]
     },
     "metadata": {},
     "output_type": "display_data"
    },
    {
     "data": {
      "application/vnd.jupyter.widget-view+json": {
       "model_id": "0211336b232e40a39fcfa4f30fb2ee7a",
       "version_major": 2,
       "version_minor": 0
      },
      "text/plain": [
       "Downloading data:   0%|          | 0/25 [00:00<?, ?files/s]"
      ]
     },
     "metadata": {},
     "output_type": "display_data"
    },
    {
     "data": {
      "application/vnd.jupyter.widget-view+json": {
       "model_id": "79bec3be25e0490fa5d49a93280816e8",
       "version_major": 2,
       "version_minor": 0
      },
      "text/plain": [
       "php.json: 0.00B [00:00, ?B/s]"
      ]
     },
     "metadata": {},
     "output_type": "display_data"
    },
    {
     "data": {
      "application/vnd.jupyter.widget-view+json": {
       "model_id": "ee1852cc31e04f8bbee2097f059c520a",
       "version_major": 2,
       "version_minor": 0
      },
      "text/plain": [
       "Generating train split:   0%|          | 0/153345 [00:00<?, ? examples/s]"
      ]
     },
     "metadata": {},
     "output_type": "display_data"
    },
    {
     "data": {
      "text/plain": [
       "{'ARM Assembly',\n",
       " 'AppleScript',\n",
       " 'C',\n",
       " 'C#',\n",
       " 'COBOL',\n",
       " 'Erlang',\n",
       " 'Fortran',\n",
       " 'Go',\n",
       " 'Java',\n",
       " 'JavaScript',\n",
       " 'Kotlin',\n",
       " 'Lua',\n",
       " 'Mathematica/Wolfram Language',\n",
       " 'PHP',\n",
       " 'Pascal',\n",
       " 'Perl',\n",
       " 'PowerShell',\n",
       " 'Python',\n",
       " 'R',\n",
       " 'Ruby',\n",
       " 'Rust',\n",
       " 'Scala',\n",
       " 'Swift',\n",
       " 'Visual Basic .NET',\n",
       " 'jq'}"
      ]
     },
     "execution_count": 3,
     "metadata": {},
     "output_type": "execute_result"
    }
   ],
   "source": [
    "df = hf_load_dataset(\"regularpooria/llm_generated_code_snippets\")[\"train\"]\n",
    "\n",
    "unique_languages = {row[\"language\"] for row in df}\n",
    "unique_languages"
   ]
  },
  {
   "cell_type": "code",
   "execution_count": 4,
   "metadata": {},
   "outputs": [
    {
     "name": "stdout",
     "output_type": "stream",
     "text": [
      "Language   Total Code Total Conv. Avg Blocks per Conv. Avg Lines per Block Stddev Lines per Block Avg Comments per Code\n",
      "----------------------------------------------------------------------------------------------------------------------------------\n",
      "Rust          &1,919&     1,001&      1.92&     19.15&     17.46&       1.78\n",
      "Scala         &1,692&     1,111&      1.52&     13.33&     11.87&       0.94\n",
      "PHP             &449&       340&      1.32&     20.60&     13.42&       3.05\n",
      "ARM Assembly    &1,174&       804&      1.46&     22.91&     28.68&       2.74\n",
      "JavaScript   &15,943&     7,217&      2.21&     23.39&     25.15&       2.23\n",
      "PowerShell    &6,375&     2,856&      2.23&     16.68&     10.47&       0.49\n",
      "jq            &2,805&     1,146&      2.45&     14.23&      6.46&       0.06\n",
      "Lua             &401&       288&      1.39&     12.34&      9.95&       2.05\n",
      "Swift           &819&       552&      1.48&     14.77&     12.82&       1.11\n",
      "C#           &14,138&     5,895&      2.40&     28.39&     26.81&       2.27\n",
      "Go            &1,631&       768&      2.12&     35.49&     34.43&       2.89\n",
      "C             &7,526&     3,911&      1.92&     43.73&     38.61&       3.18\n",
      "Fortran         &679&       477&      1.42&     15.40&     17.83&       0.42\n",
      "Perl          &1,692&     1,255&      1.35&     12.55&     13.05&       0.84\n",
      "R             &1,555&       730&      2.13&     13.94&     13.02&       2.38\n",
      "Erlang        &2,225&     1,491&      1.49&     15.36&     17.55&       0.59\n",
      "AppleScript      &192&       128&      1.50&     16.36&     17.89&       1.45\n",
      "Java         &18,680&     7,228&      2.58&     27.43&     27.89&       1.94\n",
      "Python       &60,451&    22,949&      2.63&     26.26&     24.75&       3.44\n",
      "Visual Basic .NET    &3,707&     1,637&      2.26&     27.45&     20.47&       4.49\n",
      "Ruby          &1,507&     1,097&      1.37&     14.30&     16.34&       1.31\n",
      "COBOL         &1,378&     1,022&      1.35&     15.84&     20.00&       0.06\n",
      "Kotlin        &1,559&       580&      2.69&     22.95&     20.45&       1.79\n",
      "Mathematica/Wolfram Language    &1,225&       783&      1.56&     15.80&     15.86&       1.20\n",
      "Pascal        &3,623&     2,325&      1.56&     17.01&     17.37&       0.72\n"
     ]
    }
   ],
   "source": [
    "\"\"\"This is what a \"data_point\" looks like\n",
    "{\n",
    "    \"conversation_hash\": \"string\",\n",
    "    \"code_index\": \"number\",\n",
    "    \"language\": \"string\",\n",
    "    \"libraries\": [\"string\"],\n",
    "    \"code\": \"string\",\n",
    "    \"filename\": \"string\"\n",
    "}\n",
    "\"\"\"\n",
    "\n",
    "regex_dataset = {\n",
    "    \"c\": r\"^\\s*(//|/\\*|\\*|\\*/).*\",\n",
    "    \"c#\": r\"^\\s*(//|/\\*|\\*|\\*/).*\",\n",
    "    \"java\": r\"^\\s*(//|/\\*|\\*|\\*/).*\",\n",
    "    \"javascript\": r\"^\\s*(//|/\\*|\\*|\\*/).*\",\n",
    "    \"php\": r\"^\\s*(#|//|/\\*|\\*|\\*/).*\",\n",
    "    \"python\": r'^\\s*#',\n",
    "    \"visual basic .net\": [\n",
    "        r\"//.*\",           # C# single-line\n",
    "        r\"/\\*[\\s\\S]*?\\*/\", # C# block\n",
    "        r\"'.*\",            # VB.NET single-quote\n",
    "        r\"REM .*\"          # VB style REM\n",
    "    ],\n",
    "\n",
    "    \"fortran\": [\n",
    "        r\"^!.*\",           # Modern free form\n",
    "        r\"^c.*\",           # Fixed form comment (column 1 = C or c or *)\n",
    "        r\"^\\*.*\"\n",
    "    ],\n",
    "\n",
    "    \"perl\": [\n",
    "        r\"#.*\",            # Perl single-line\n",
    "        r\"^=cut.*\"         # POD comment close\n",
    "    ],\n",
    "\n",
    "    \"ruby\": [\n",
    "        r\"#.*\",                  # Ruby single-line\n",
    "        r\"=begin[\\s\\S]*?=end\"    # Ruby block comment\n",
    "    ],\n",
    "\n",
    "    \"swift\": [\n",
    "        r\"//.*\",           # Swift single-line\n",
    "        r\"/\\*[\\s\\S]*?\\*/\"  # Swift block\n",
    "    ],\n",
    "\n",
    "    \"cobol\": [\n",
    "        r\"^\\s*\\*.*\"        # COBOL comment lines\n",
    "    ],\n",
    "\n",
    "    \"erlang\": [\n",
    "        r\"%.*\"             # Erlang single-line\n",
    "    ],\n",
    "\n",
    "    \"mathematica/wolfram language\": [\n",
    "        r\"\\(\\*[\\s\\S]*?\\*\\)\" # Mathematica/Wolfram block comment\n",
    "    ],\n",
    "\n",
    "    \"rust\": [\n",
    "        r\"//.*\",           # Rust single-line\n",
    "        r\"/\\*[\\s\\S]*?\\*/\"  # Rust block\n",
    "    ],\n",
    "\n",
    "    \"arm assembly\": [\n",
    "        r\";.*\"             # ARM Assembly comment\n",
    "    ],\n",
    "\n",
    "    \"go\": [\n",
    "        r\"//.*\",           # Go single-line\n",
    "        r\"/\\*[\\s\\S]*?\\*/\"  # Go block\n",
    "    ],\n",
    "\n",
    "    \"r\": [\n",
    "        r\"#.*\"             # R single-line\n",
    "    ],\n",
    "\n",
    "    \"kotlin\": [\n",
    "        r\"//.*\",           # Kotlin single-line\n",
    "        r\"/\\*[\\s\\S]*?\\*/\"  # Kotlin block\n",
    "    ],\n",
    "\n",
    "    \"applescript\": [\n",
    "        r\"--.*\",           # AppleScript single-line\n",
    "        r\"\\(\\*[\\s\\S]*?\\*\\)\" # AppleScript block\n",
    "    ],\n",
    "\n",
    "    \"jq\": [\n",
    "        r\"#.*\"             # JQ single-line\n",
    "    ],\n",
    "\n",
    "    \"scala\": [\n",
    "        r\"//.*\",           # Scala single-line\n",
    "        r\"/\\*[\\s\\S]*?\\*/\"  # Scala block\n",
    "    ],\n",
    "\n",
    "    \"powershell\": [\n",
    "        r\"#.*\"             # PowerShell single-line\n",
    "    ],\n",
    "\n",
    "    \"pascal\": [\n",
    "        r\"\\{[\\s\\S]*?\\}\",   # Pascal block {}\n",
    "        r\"\\(\\*[\\s\\S]*?\\*\\)\" # Pascal block (* *)\n",
    "    ],\n",
    "\n",
    "    \"lua\": [\n",
    "        r\"--.*\",           # Lua single-line\n",
    "        r\"--\\[\\[[\\s\\S]*?\\]\\]\" # Lua block\n",
    "    ]\n",
    "    \n",
    "}\n",
    "\n",
    "headers = [\n",
    "    \"Language\",\n",
    "    \"Total Code\",\n",
    "    \"Total Conv.\",\n",
    "    \"Avg Blocks per Conv.\",\n",
    "    \"Avg Lines per Block\",\n",
    "    \"Stddev Lines per Block\",\n",
    "    \"Avg Comments per Code\",\n",
    "]\n",
    "\n",
    "\n",
    "    \n",
    "row_format = \"{:<10} {:>10} {:>10} {:>10} {:>10} {:>10} {:>10}\"\n",
    "\n",
    "# Print header\n",
    "print(row_format.format(*headers))\n",
    "print(\"-\" * 130)\n",
    "\n",
    "for language in unique_languages:\n",
    "    \n",
    "    total_data_points = 0\n",
    "    conversations = {}\n",
    "    blocks = []\n",
    "    comments_length = []\n",
    "\n",
    "    for row in df:\n",
    "        \n",
    "        if row[\"language\"].lower() != language.lower():\n",
    "            continue\n",
    "        \n",
    "            \n",
    "        total_data_points += 1\n",
    "        conversation_hash = row[\"conversation_hash\"]\n",
    "\n",
    "        if conversation_hash in conversations:\n",
    "            conversations[conversation_hash] += 1\n",
    "        else:\n",
    "            conversations[conversation_hash] = 1\n",
    "\n",
    "        blocks.append(row[\"code\"])\n",
    "        if language.lower() not in regex_dataset:\n",
    "            continue\n",
    "        if isinstance(regex_dataset[language.lower()], list):\n",
    "            length = 0\n",
    "            for regex in regex_dataset[language.lower()]:\n",
    "                length += len(re.findall(regex, row[\"code\"], flags=re.MULTILINE))\n",
    "            \n",
    "            comments_length.append(length)\n",
    "        else:\n",
    "            comments_length.append(len(re.findall(regex_dataset[language.lower()], row[\"code\"], re.MULTILINE)))\n",
    "\n",
    "    avg_blocks_per_conv = sum(list(conversations.values())) / len(conversations)\n",
    "    avg_lines_per_block = sum([len(block.split(\"\\n\")) for block in blocks]) / len(blocks)\n",
    "    std_lines_per_block = std([len(block.split(\"\\n\")) for block in blocks])\n",
    "    \n",
    "    if language.lower() in regex_dataset:\n",
    "        avg_lines_per_comment = sum(comments_length) / len(comments_length)\n",
    "    else:\n",
    "        avg_lines_per_comment = -1\n",
    "    # Apply formatting: int with commas, floats with 2 decimals\n",
    "    formatted_row = [\n",
    "        f\"{language}\",  # Language\n",
    "        f\"&{len(blocks):,}&\",  # Total Code\n",
    "        f\"{len(conversations):,}&\",  # Total Conv.\n",
    "        f\"{avg_blocks_per_conv:.2f}&\",  # Avg Blocks per Conv.\n",
    "        f\"{avg_lines_per_block:.2f}&\",  # Avg Lines per Block\n",
    "        f\"{std_lines_per_block:.2f}&\",  # Stddev Lines per Block\n",
    "        f\"{avg_lines_per_comment:.2f}\",  # Avg Comments per Code\n",
    "    ]\n",
    "    print(row_format.format(*formatted_row))"
   ]
  },
  {
   "cell_type": "code",
   "execution_count": null,
   "metadata": {},
   "outputs": [],
   "source": []
  }
 ],
 "metadata": {
  "kernelspec": {
   "display_name": "venv",
   "language": "python",
   "name": "python3"
  },
  "language_info": {
   "codemirror_mode": {
    "name": "ipython",
    "version": 3
   },
   "file_extension": ".py",
   "mimetype": "text/x-python",
   "name": "python",
   "nbconvert_exporter": "python",
   "pygments_lexer": "ipython3",
   "version": "3.10.12"
  }
 },
 "nbformat": 4,
 "nbformat_minor": 2
}
